{
 "cells": [
  {
   "cell_type": "code",
   "execution_count": 21,
   "metadata": {},
   "outputs": [],
   "source": [
    "file=open(\"time_table.txt\")\n",
    "l=[]\n",
    "for i in file:\n",
    "    l.append(i.split())"
   ]
  },
  {
   "cell_type": "code",
   "execution_count": 22,
   "metadata": {},
   "outputs": [
    {
     "name": "stdout",
     "output_type": "stream",
     "text": [
      "an error occurred <HttpError 400 when requesting https://www.googleapis.com/calendar/v3/calendars/primary/events?alt=json returned \"Bad Request\". Details: \"[{'domain': 'global', 'reason': 'badRequest', 'message': 'Bad Request'}]\">\n"
     ]
    }
   ],
   "source": [
    "import datetime as dt\n",
    "import os.path\n",
    "\n",
    "from google.auth.transport.requests import Request\n",
    "from google.oauth2.credentials import Credentials\n",
    "from google_auth_oauthlib.flow import InstalledAppFlow\n",
    "from googleapiclient.discovery import build\n",
    "from googleapiclient.errors import HttpError\n",
    "\n",
    "SCOPES=[\"https://www.googleapis.com/auth/calendar\"]\n",
    "summary='\"BECE102L\"'\n",
    "location='\"AB1 508\"'\n",
    "start_time='\"2023-12-25T02:00\"'\n",
    "end_time='\"2023-12-25T02:50\"'\n",
    "def main_gg(summary,location,start_time,end_time):\n",
    "  creds = None\n",
    "  if os.path.exists(\"token.json\"):\n",
    "    creds = Credentials.from_authorized_user_file(\"token.json\", SCOPES)\n",
    "  if not creds or not creds.valid:\n",
    "    if creds and creds.expired and creds.refresh_token:\n",
    "      creds.refresh(Request())\n",
    "    else:\n",
    "      flow = InstalledAppFlow.from_client_secrets_file(\n",
    "          \"credentials.json\", SCOPES\n",
    "      )\n",
    "      creds = flow.run_local_server(port=0)\n",
    "    with open(\"token.json\", \"w\") as token:\n",
    "      token.write(creds.to_json())\n",
    "  try:\n",
    "    service = build(\"calendar\", \"v3\", credentials=creds)\n",
    "    event={\n",
    "      \"summary\":summary,\n",
    "      \"location\":location,\n",
    "      \"colorId\":6,\n",
    "      \"start\":{\n",
    "        \"dateTime\":start_time,\n",
    "        \"timeZone\":\"GMT+05:30\"\n",
    "      },\n",
    "      \"end\":{\n",
    "        \"dateTime\":end_time,\n",
    "        \"timeZone\":\"GMT+05:30\"\n",
    "      },\n",
    "      \"recurrence\":[\n",
    "        \"RRULE:FREQ=WEEKLY;COUNT=20\"\n",
    "      ]\n",
    "    }\n",
    "    event=service.events().insert(calendarId=\"primary\",body=event).execute()\n",
    "    print(f\"event created {event.get('htmlLink')}\")\n",
    "  except HttpError as error:\n",
    "    print(\"an error occurred\",error)\n",
    "if __name__== '__main__':\n",
    "  main_gg(summary,location,start_time,end_time)\n"
   ]
  },
  {
   "cell_type": "code",
   "execution_count": 23,
   "metadata": {},
   "outputs": [],
   "source": [
    "theory_start=l[0][2:]\n",
    "theory_end=l[1][1:]\n",
    "lab_start=l[2][2:]\n",
    "lab_end=l[3][1:]\n",
    "def time_24_hour(l1):\n",
    "    for i in range(0,len(l1)):\n",
    "        if l1[i]==\"Lunch\":\n",
    "            for j in range(i+1,len(l1)):\n",
    "                integer=int(l1[j][0:2])\n",
    "                l1[j]=str(integer+12)+l1[j][2:]\n",
    "    return l1\n",
    "theory_start=time_24_hour(theory_start)\n",
    "theory_end=time_24_hour(theory_end)\n",
    "lab_start=time_24_hour(lab_start)\n",
    "lab_end=time_24_hour(lab_end)\n",
    "\n"
   ]
  },
  {
   "cell_type": "code",
   "execution_count": 24,
   "metadata": {},
   "outputs": [
    {
     "name": "stdout",
     "output_type": "stream",
     "text": [
      "event created https://www.google.com/calendar/event?eid=ZHB0ZHNsdXM5dmc2azFxN3R2aWNqNGEzZGdfMjAyMzEyMjVUMDgzMDAwWiBoYXJpa3VtYXIudDQ0NDRAbQ\n",
      "event created https://www.google.com/calendar/event?eid=dm1uamcxYjJycWE0azZidW5kNzNjdXE1NTRfMjAyMzEyMjVUMDkyNTAwWiBoYXJpa3VtYXIudDQ0NDRAbQ\n",
      "event created https://www.google.com/calendar/event?eid=ZjYzM2ZkNWNrN29qODF0aXQ3aTUxNW41cDhfMjAyMzEyMjVUMTAyMDAwWiBoYXJpa3VtYXIudDQ0NDRAbQ\n",
      "event created https://www.google.com/calendar/event?eid=Nzc3ZG9taTFnb203N3ZjNGtpYWY4bG81ZWtfMjAyMzEyMjVUMDQyMDAwWiBoYXJpa3VtYXIudDQ0NDRAbQ\n",
      "event created https://www.google.com/calendar/event?eid=dnN0MzVvYWczdnRoNjl1M3Fpc281NTRuY29fMjAyMzEyMjVUMDUxMDAwWiBoYXJpa3VtYXIudDQ0NDRAbQ\n",
      "event created https://www.google.com/calendar/event?eid=cjVncjMxbDhyYzk1bHQ2Y2p1c20wa2I0cWtfMjAyMzEyMjVUMTIxMDAwWiBoYXJpa3VtYXIudDQ0NDRAbQ\n",
      "event created https://www.google.com/calendar/event?eid=ZzJqbnBoazU1Y3BhcW4wamE4NmpobHJjNG9fMjAyMzEyMjVUMTMwMDAwWiBoYXJpa3VtYXIudDQ0NDRAbQ\n",
      "event created https://www.google.com/calendar/event?eid=OXQzNHY3dmo1YzZnY2o2ZnFuZmE2OTQwdXNfMjAyMzEyMjZUMDgzMDAwWiBoYXJpa3VtYXIudDQ0NDRAbQ\n",
      "event created https://www.google.com/calendar/event?eid=MTZvbzhqcTY4amJjaTBtZTFtdTVqdDdncHNfMjAyMzEyMjZUMTExNTAwWiBoYXJpa3VtYXIudDQ0NDRAbQ\n",
      "event created https://www.google.com/calendar/event?eid=bDUwNzBqYmYwZ2FycTcwaTF1NGQwMDE0cThfMjAyMzEyMjZUMTIxMDAwWiBoYXJpa3VtYXIudDQ0NDRAbQ\n",
      "event created https://www.google.com/calendar/event?eid=bnVhMnI0NnA3cTJjcHZzcXU2NzJ1OGRpNzhfMjAyMzEyMjZUMTMwMDAwWiBoYXJpa3VtYXIudDQ0NDRAbQ\n",
      "event created https://www.google.com/calendar/event?eid=YWpmb204ajBqY2diam42MTJ1YzAxNmtndWdfMjAyMzEyMjdUMDgzMDAwWiBoYXJpa3VtYXIudDQ0NDRAbQ\n",
      "event created https://www.google.com/calendar/event?eid=YWUwdWwwbWlmZzJvZmdpNjJnNmJpMXU2dG9fMjAyMzEyMjdUMDkyNTAwWiBoYXJpa3VtYXIudDQ0NDRAbQ\n",
      "event created https://www.google.com/calendar/event?eid=MTQ1bGVubDY1YWY3ajE5aGd0bTc5NnZqZGdfMjAyMzEyMjdUMTAyMDAwWiBoYXJpa3VtYXIudDQ0NDRAbQ\n",
      "event created https://www.google.com/calendar/event?eid=dW1ycjM5dW5wZHFhZm5sN2ljYWN1NDVmcDBfMjAyMzEyMjdUMTExNTAwWiBoYXJpa3VtYXIudDQ0NDRAbQ\n",
      "event created https://www.google.com/calendar/event?eid=N3BoZGR1dmo0NDYzZ25mbGxpOTEycHEwZGNfMjAyMzEyMjdUMDQyMDAwWiBoYXJpa3VtYXIudDQ0NDRAbQ\n",
      "event created https://www.google.com/calendar/event?eid=M2RrcWx2Nm5tMXZzaWV0cjVyaHU0OWluN29fMjAyMzEyMjdUMDUxMDAwWiBoYXJpa3VtYXIudDQ0NDRAbQ\n",
      "event created https://www.google.com/calendar/event?eid=bDA5bGUyODgybXVhdXZnZG5lMGMwMG9yYmNfMjAyMzEyMjdUMTIxMDAwWiBoYXJpa3VtYXIudDQ0NDRAbQ\n",
      "event created https://www.google.com/calendar/event?eid=Z281MHB1MXRoMHRqcmk0bmdhNWk1ZG9oYm9fMjAyMzEyMjdUMTMwMDAwWiBoYXJpa3VtYXIudDQ0NDRAbQ\n",
      "event created https://www.google.com/calendar/event?eid=bnBnc28ybGc3ZmNzYzVrb2k0aWNpdGs1aXNfMjAyMzEyMjhUMDgzMDAwWiBoYXJpa3VtYXIudDQ0NDRAbQ\n",
      "event created https://www.google.com/calendar/event?eid=ZG80djFpcTY0MWs1dG91ZXVka2IxbThsZDRfMjAyMzEyMjhUMDkyNTAwWiBoYXJpa3VtYXIudDQ0NDRAbQ\n",
      "event created https://www.google.com/calendar/event?eid=NzF1cDQ3aTh0OGI0OHBzNGltM21yZTlwcGdfMjAyMzEyMjJUMDkyNTAwWiBoYXJpa3VtYXIudDQ0NDRAbQ\n",
      "event created https://www.google.com/calendar/event?eid=bjA1ZHMyYW1iYjg3cmg4aDduNTJpaG1pZmNfMjAyMzEyMjJUMTAyMDAwWiBoYXJpa3VtYXIudDQ0NDRAbQ\n",
      "event created https://www.google.com/calendar/event?eid=bmcyZjhiZTltajNmcXRvMjJvdDh0cmQwMjRfMjAyMzEyMjJUMTExNTAwWiBoYXJpa3VtYXIudDQ0NDRAbQ\n",
      "event created https://www.google.com/calendar/event?eid=dWwxcXBvdG5odGxxOWI4b2ZrMDBkdjU2dGdfMjAyMzEyMjJUMTIxMDAwWiBoYXJpa3VtYXIudDQ0NDRAbQ\n"
     ]
    }
   ],
   "source": [
    "import re\n",
    "from datetime import datetime, timedelta\n",
    "current_date = datetime.now()\n",
    "days_until_next_monday = (0 - current_date.weekday()) % 7\n",
    "next_monday = current_date + timedelta(days=days_until_next_monday)\n",
    "pattern=\"[-]([a-zA-Z0-9]+)[-]([a-zA-Z0-9]{2})[-]([a-zA-Z0-9]{3})[-]([a-zA-Z0-9]{3,4})[-]([a-zA-Z0-9]{3})\"\n",
    "for i in range(4,16):\n",
    "    for j in range(0,len(l[i])):\n",
    "        h=['MON','TUE','WED','THU','FRI','SAT','SUN']\n",
    "        if l[i][j] in h:\n",
    "            days_until_next_monday = (h.index(l[i][j]) - current_date.weekday()) % 7\n",
    "            next_day = current_date + timedelta(days=days_until_next_monday)\n",
    "        elif l[i][j] in ['THEORY','LAB']:\n",
    "            count=-1\n",
    "            type_class=l[i][j]\n",
    "        elif l[i][j] == \"Lunch\" or l[i][j]=='-':\n",
    "            count+=1\n",
    "        elif re.findall(pattern,l[i][j]):\n",
    "            count+=1\n",
    "            x=re.findall(pattern,l[i][j])\n",
    "            summary=x[0][0]\n",
    "            location=x[0][2]+\" \"+x[0][3]\n",
    "            if type_class==\"THEORY\":\n",
    "                start=theory_start[count]\n",
    "                end=theory_end[count]\n",
    "            elif type_class==\"LAB\":\n",
    "                start=lab_start[count]\n",
    "                end=lab_end[count]\n",
    "            start_time=str(next_day.date())+\"T\"+start+\":00\"\n",
    "            end_time=str(next_day.date())+\"T\"+end+\":00\"\n",
    "            main_gg(summary,location,start_time,end_time)\n",
    "        elif l[i][j][-1].isdigit():\n",
    "            count+=1"
   ]
  }
 ],
 "metadata": {
  "kernelspec": {
   "display_name": "Python 3",
   "language": "python",
   "name": "python3"
  },
  "language_info": {
   "codemirror_mode": {
    "name": "ipython",
    "version": 3
   },
   "file_extension": ".py",
   "mimetype": "text/x-python",
   "name": "python",
   "nbconvert_exporter": "python",
   "pygments_lexer": "ipython3",
   "version": "3.11.7"
  }
 },
 "nbformat": 4,
 "nbformat_minor": 2
}
